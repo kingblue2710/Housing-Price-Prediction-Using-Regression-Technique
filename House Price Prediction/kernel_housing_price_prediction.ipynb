{
 "cells": [
  {
   "cell_type": "code",
   "execution_count": 2,
   "metadata": {
    "_cell_guid": "b1076dfc-b9ad-4769-8c92-a6c4dae69d19",
    "_uuid": "8f2839f25d086af736a60e9eeb907d3b93b6e0e5"
   },
   "outputs": [],
   "source": [
    "# This Python 3 environment comes with many helpful analytics libraries installed\n",
    "# It is defined by the kaggle/python docker image: https://github.com/kaggle/docker-python\n",
    "# For example, here's several helpful packages to load in \n",
    "\n",
    "import numpy as np # linear algebra\n",
    "import pandas as pd # data processing, CSV file I/O (e.g. pd.read_csv)\n",
    "import matplotlib.pyplot as plt\n",
    "from sklearn import linear_model\n",
    "# Input data files are available in the \"../input/\" directory.\n",
    "# For example, running this (by clicking run or pressing Shift+Enter) will list the files in the input directory\n",
    "\n",
    "import os\n",
    "#print(os.listdir(\"../input\"))\n",
    "\n",
    "# Any results you write to the current directory are saved as output."
   ]
  },
  {
   "cell_type": "code",
   "execution_count": 4,
   "metadata": {
    "_cell_guid": "79c7e3d0-c299-4dcb-8224-4455121ee9b0",
    "_uuid": "d629ff2d2480ee46fbb7e2d37f6b5fab8052498a",
    "scrolled": false
   },
   "outputs": [
    {
     "name": "stdout",
     "output_type": "stream",
     "text": [
      "   Id  MSSubClass MSZoning  LotFrontage  LotArea Street Alley LotShape  \\\n",
      "0   1          60       RL         65.0     8450   Pave   NaN      Reg   \n",
      "1   2          20       RL         80.0     9600   Pave   NaN      Reg   \n",
      "2   3          60       RL         68.0    11250   Pave   NaN      IR1   \n",
      "3   4          70       RL         60.0     9550   Pave   NaN      IR1   \n",
      "4   5          60       RL         84.0    14260   Pave   NaN      IR1   \n",
      "\n",
      "  LandContour Utilities    ...     PoolArea PoolQC Fence MiscFeature MiscVal  \\\n",
      "0         Lvl    AllPub    ...            0    NaN   NaN         NaN       0   \n",
      "1         Lvl    AllPub    ...            0    NaN   NaN         NaN       0   \n",
      "2         Lvl    AllPub    ...            0    NaN   NaN         NaN       0   \n",
      "3         Lvl    AllPub    ...            0    NaN   NaN         NaN       0   \n",
      "4         Lvl    AllPub    ...            0    NaN   NaN         NaN       0   \n",
      "\n",
      "  MoSold YrSold  SaleType  SaleCondition  SalePrice  \n",
      "0      2   2008        WD         Normal     208500  \n",
      "1      5   2007        WD         Normal     181500  \n",
      "2      9   2008        WD         Normal     223500  \n",
      "3      2   2006        WD        Abnorml     140000  \n",
      "4     12   2008        WD         Normal     250000  \n",
      "\n",
      "[5 rows x 81 columns]\n",
      "(1460, 81)\n",
      "columns with the missing value:  Index(['LotFrontage', 'Alley', 'MasVnrType', 'MasVnrArea', 'BsmtQual',\n",
      "       'BsmtCond', 'BsmtExposure', 'BsmtFinType1', 'BsmtFinType2',\n",
      "       'Electrical', 'FireplaceQu', 'GarageType', 'GarageYrBlt',\n",
      "       'GarageFinish', 'GarageQual', 'GarageCond', 'PoolQC', 'Fence',\n",
      "       'MiscFeature'],\n",
      "      dtype='object')\n",
      "<class 'pandas.core.frame.DataFrame'>\n",
      "RangeIndex: 1460 entries, 0 to 1459\n",
      "Data columns (total 81 columns):\n",
      "Id               1460 non-null int64\n",
      "MSSubClass       1460 non-null int64\n",
      "MSZoning         1460 non-null object\n",
      "LotFrontage      1201 non-null float64\n",
      "LotArea          1460 non-null int64\n",
      "Street           1460 non-null object\n",
      "Alley            91 non-null object\n",
      "LotShape         1460 non-null object\n",
      "LandContour      1460 non-null object\n",
      "Utilities        1460 non-null object\n",
      "LotConfig        1460 non-null object\n",
      "LandSlope        1460 non-null object\n",
      "Neighborhood     1460 non-null object\n",
      "Condition1       1460 non-null object\n",
      "Condition2       1460 non-null object\n",
      "BldgType         1460 non-null object\n",
      "HouseStyle       1460 non-null object\n",
      "OverallQual      1460 non-null int64\n",
      "OverallCond      1460 non-null int64\n",
      "YearBuilt        1460 non-null int64\n",
      "YearRemodAdd     1460 non-null int64\n",
      "RoofStyle        1460 non-null object\n",
      "RoofMatl         1460 non-null object\n",
      "Exterior1st      1460 non-null object\n",
      "Exterior2nd      1460 non-null object\n",
      "MasVnrType       1452 non-null object\n",
      "MasVnrArea       1452 non-null float64\n",
      "ExterQual        1460 non-null object\n",
      "ExterCond        1460 non-null object\n",
      "Foundation       1460 non-null object\n",
      "BsmtQual         1423 non-null object\n",
      "BsmtCond         1423 non-null object\n",
      "BsmtExposure     1422 non-null object\n",
      "BsmtFinType1     1423 non-null object\n",
      "BsmtFinSF1       1460 non-null int64\n",
      "BsmtFinType2     1422 non-null object\n",
      "BsmtFinSF2       1460 non-null int64\n",
      "BsmtUnfSF        1460 non-null int64\n",
      "TotalBsmtSF      1460 non-null int64\n",
      "Heating          1460 non-null object\n",
      "HeatingQC        1460 non-null object\n",
      "CentralAir       1460 non-null object\n",
      "Electrical       1459 non-null object\n",
      "1stFlrSF         1460 non-null int64\n",
      "2ndFlrSF         1460 non-null int64\n",
      "LowQualFinSF     1460 non-null int64\n",
      "GrLivArea        1460 non-null int64\n",
      "BsmtFullBath     1460 non-null int64\n",
      "BsmtHalfBath     1460 non-null int64\n",
      "FullBath         1460 non-null int64\n",
      "HalfBath         1460 non-null int64\n",
      "BedroomAbvGr     1460 non-null int64\n",
      "KitchenAbvGr     1460 non-null int64\n",
      "KitchenQual      1460 non-null object\n",
      "TotRmsAbvGrd     1460 non-null int64\n",
      "Functional       1460 non-null object\n",
      "Fireplaces       1460 non-null int64\n",
      "FireplaceQu      770 non-null object\n",
      "GarageType       1379 non-null object\n",
      "GarageYrBlt      1379 non-null float64\n",
      "GarageFinish     1379 non-null object\n",
      "GarageCars       1460 non-null int64\n",
      "GarageArea       1460 non-null int64\n",
      "GarageQual       1379 non-null object\n",
      "GarageCond       1379 non-null object\n",
      "PavedDrive       1460 non-null object\n",
      "WoodDeckSF       1460 non-null int64\n",
      "OpenPorchSF      1460 non-null int64\n",
      "EnclosedPorch    1460 non-null int64\n",
      "3SsnPorch        1460 non-null int64\n",
      "ScreenPorch      1460 non-null int64\n",
      "PoolArea         1460 non-null int64\n",
      "PoolQC           7 non-null object\n",
      "Fence            281 non-null object\n",
      "MiscFeature      54 non-null object\n",
      "MiscVal          1460 non-null int64\n",
      "MoSold           1460 non-null int64\n",
      "YrSold           1460 non-null int64\n",
      "SaleType         1460 non-null object\n",
      "SaleCondition    1460 non-null object\n",
      "SalePrice        1460 non-null int64\n",
      "dtypes: float64(3), int64(35), object(43)\n",
      "memory usage: 924.0+ KB\n",
      "None\n"
     ]
    }
   ],
   "source": [
    "#training set\n",
    "train=pd.read_csv(r\"C:\\Users\\hp\\Documents\\Projects\\House Price Prediction\\Input Data/train.csv\")\n",
    "print(train.head())\n",
    "print(train.shape)\n",
    "#print(train.columns)\n",
    "#print(train.dtypes)\n",
    "print(\"columns with the missing value: \",train.columns[train.isnull().any()])\n",
    "print(train.info())\n",
    "#print(train.describe)"
   ]
  },
  {
   "cell_type": "code",
   "execution_count": 6,
   "metadata": {
    "_uuid": "e71dcdf2b843c229b2d43e40b5239a2d38bcc733"
   },
   "outputs": [
    {
     "data": {
      "text/plain": [
       "0"
      ]
     },
     "execution_count": 6,
     "metadata": {},
     "output_type": "execute_result"
    }
   ],
   "source": [
    "train[\"Fence\"].fillna(\"FenceZ\",inplace=True)\n",
    "Fence_dummy_train=pd.get_dummies(train[\"Fence\"])\n",
    "train=pd.concat([train,Fence_dummy_train],axis=1)\n",
    "#MiscFeature\n",
    "train[\"MiscFeature\"].fillna(\"B\",inplace=True)\n",
    "MiscFeature_dummy_train=pd.get_dummies(train[\"MiscFeature\"])\n",
    "train=pd.concat([train,MiscFeature_dummy_train],axis=1)\n",
    "\n",
    "#BsmtUnfSF\n",
    "train[\"BsmtUnfSF\"].fillna(train[\"BsmtUnfSF\"].mean(),inplace=True)\n",
    "#TotalBsmtSF\n",
    "train[\"TotalBsmtSF\"].fillna(train[\"TotalBsmtSF\"].mean(),inplace=True)\n",
    "#BsmtFullBath\n",
    "train[\"BsmtFullBath\"].fillna(train[\"BsmtFullBath\"].mode()[0],inplace=True)\n",
    "#BsmtHalfBath\n",
    "train[\"BsmtHalfBath\"].fillna(train[\"BsmtHalfBath\"].mode()[0],inplace=True)\n",
    "#Functional\n",
    "train[\"Functional\"].fillna(train[\"Functional\"].mode()[0],inplace=True)\n",
    "train=pd.concat([train,pd.get_dummies(train[\"Functional\"])],axis=1)\n",
    "#GarageCars\n",
    "train[\"GarageCars\"].fillna(train[\"GarageCars\"].mode()[0],inplace=True)\n",
    "train['BsmtUnfSF'].isna().sum()"
   ]
  },
  {
   "cell_type": "code",
   "execution_count": 7,
   "metadata": {
    "_uuid": "326649ef9088169b1bde06b8da6e0f3bf53260de",
    "scrolled": true
   },
   "outputs": [
    {
     "name": "stdout",
     "output_type": "stream",
     "text": [
      "columns with the missing value:  Index(['LotFrontage', 'MasVnrArea', 'BsmtCond', 'BsmtFinType2', 'FireplaceQu',\n",
      "       'GarageType', 'GarageYrBlt', 'GarageFinish', 'GarageQual', 'GarageCond',\n",
      "       'PoolQC'],\n",
      "      dtype='object')\n",
      "Index(['Id', 'MSSubClass', 'MSZoning', 'LotFrontage', 'LotArea', 'Street',\n",
      "       'LotShape', 'LandContour', 'Utilities', 'LotConfig',\n",
      "       ...\n",
      "       'Othr', 'Shed', 'TenC', 'Maj1', 'Maj2', 'Min1', 'Min2', 'Mod', 'Sev',\n",
      "       'Typ'],\n",
      "      dtype='object', length=142)\n",
      "<class 'pandas.core.frame.DataFrame'>\n",
      "RangeIndex: 1460 entries, 0 to 1459\n",
      "Columns: 142 entries, Id to Typ\n",
      "dtypes: float64(3), int64(35), object(37), uint8(67)\n",
      "memory usage: 951.1+ KB\n",
      "None\n",
      "0    FenceZ\n",
      "1    FenceZ\n",
      "2    FenceZ\n",
      "3    FenceZ\n",
      "4    FenceZ\n",
      "5     MnPrv\n",
      "6    FenceZ\n",
      "7    FenceZ\n",
      "8    FenceZ\n",
      "9    FenceZ\n",
      "Name: Fence, dtype: object\n",
      "0    B\n",
      "1    B\n",
      "2    B\n",
      "3    B\n",
      "4    B\n",
      "Name: MiscFeature, dtype: object\n"
     ]
    }
   ],
   "source": [
    "#training set data manipulation\n",
    "# train=pd.read_csv(\"../input/train.csv\")\n",
    "#LotFrontage\n",
    "mean_LotFrontage_train=train[\"LotFrontage\"].mean()\n",
    "train[\"LotFrontage\"].fillna(mean_LotFrontage_train,inplace=True)\n",
    "#Alley\n",
    "train[\"Alley\"].fillna(\"Z\",inplace=True)\n",
    "Alley_dummy_train=pd.get_dummies(train[\"Alley\"])\n",
    "train=pd.concat([train,Alley_dummy_train],axis=1)\n",
    "#MasVnrType\n",
    "train[\"MasVnrType\"].fillna(\"ZZ\",inplace=True)\n",
    "MasVnrType_dummy_train=pd.get_dummies(train[\"MasVnrType\"])\n",
    "train=pd.concat([train,MasVnrType_dummy_train],axis=1)\n",
    "#MasVnrArea\n",
    "mean_MasVnrArea_train=train[\"MasVnrArea\"].mean()\n",
    "train[\"MasVnrArea\"].fillna(mean_MasVnrArea_train,inplace=True)\n",
    "#print(train[\"MasVnrArea\"].head())\n",
    "#BsmtQual\n",
    "mode_BsmtQual_train=train[\"BsmtQual\"].mode()[0]\n",
    "train[\"BsmtQual\"].fillna(mode_BsmtQual_train,inplace=True)\n",
    "BsmtQual_dummy_train=pd.get_dummies(train[\"BsmtQual\"])\n",
    "train=pd.concat([train,BsmtQual_dummy_train],axis=1)\n",
    "#BsmtCond\n",
    "#mode_BsmtCond_train=train[\"BsmtCond\"].mode()[0]\n",
    "#train[\"BsmtCond\"].fillna(mode_BsmtCond_train,inplace=True)\n",
    "#BsmtCond_dummy_train=pd.get_dummies(train[\"BsmtCond\"])\n",
    "#train=pd.concat([train,BsmtCond_dummy_train],axis=1)\n",
    "#BsmtExposure\n",
    "mode_BsmtExposure_train=train[\"BsmtExposure\"].mode()[0]\n",
    "train[\"BsmtExposure\"].fillna(mode_BsmtExposure_train,inplace=True)\n",
    "train[\"BsmtExposure\"].replace(\"Gd\",\"Good\",inplace=True)\n",
    "BsmtExposure_dummy_train=pd.get_dummies(train[\"BsmtExposure\"])\n",
    "train=pd.concat([train,BsmtExposure_dummy_train],axis=1)\n",
    "#BsmtFinType1\n",
    "mode_BsmtFinType1_train=train[\"BsmtFinType1\"].mode()[0]\n",
    "train[\"BsmtFinType1\"].fillna(mode_BsmtFinType1_train,inplace=True)\n",
    "BsmtFinType1_dummy_train=pd.get_dummies(train[\"BsmtFinType1\"])\n",
    "train=pd.concat([train,BsmtFinType1_dummy_train],axis=1)\n",
    "#Electrical\n",
    "train[\"Electrical\"].fillna(train[\"Electrical\"].mode()[0],inplace=True)\n",
    "Electrical_dummy_train=pd.get_dummies(train[\"Electrical\"])\n",
    "train=pd.concat([train,Electrical_dummy_train],axis=1)\n",
    "\n",
    "#PoolQC\n",
    "train[\"PoolQC\"].fillna(\"ZZZ\",inplace=True)\n",
    "PoolQC_dummy_train=pd.get_dummies(train[\"PoolQC\"])\n",
    "train=pd.concat([train,PoolQC_dummy_train],axis=1)\n",
    "#Fence\n",
    "train[\"Fence\"].fillna(\"FenceZ\",inplace=True)\n",
    "Fence_dummy_train=pd.get_dummies(train[\"Fence\"])\n",
    "train=pd.concat([train,Fence_dummy_train],axis=1)\n",
    "#MiscFeature\n",
    "train[\"MiscFeature\"].fillna(\"B\",inplace=True)\n",
    "MiscFeature_dummy_train=pd.get_dummies(train[\"MiscFeature\"])\n",
    "train=pd.concat([train,MiscFeature_dummy_train],axis=1)\n",
    "\n",
    "#BsmtUnfSF\n",
    "train[\"BsmtUnfSF\"].fillna(train[\"BsmtUnfSF\"].mean(),inplace=True)\n",
    "#TotalBsmtSF\n",
    "train[\"TotalBsmtSF\"].fillna(train[\"TotalBsmtSF\"].mean(),inplace=True)\n",
    "#BsmtFullBath\n",
    "train[\"BsmtFullBath\"].fillna(train[\"BsmtFullBath\"].mode()[0],inplace=True)\n",
    "#BsmtHalfBath\n",
    "train[\"BsmtHalfBath\"].fillna(train[\"BsmtHalfBath\"].mode()[0],inplace=True)\n",
    "#Functional\n",
    "train[\"Functional\"].fillna(train[\"Functional\"].mode()[0],inplace=True)\n",
    "train=pd.concat([train,pd.get_dummies(train[\"Functional\"])],axis=1)\n",
    "#GarageCars\n",
    "train[\"GarageCars\"].fillna(train[\"GarageCars\"].mode()[0],inplace=True)\n",
    "\n",
    "train.drop(train[[\"Alley\",\"MasVnrType\",\"BsmtQual\",\"BsmtExposure\",\"BsmtFinType1\",\"Electrical\"]],axis=1,inplace=True)\n",
    "print(\"columns with the missing value: \",train.columns[train.isnull().any(axis=0)])\n",
    "print(train.columns)\n",
    "print(train.info())\n",
    "print(train[\"Fence\"].head(10))\n",
    "#print(train[\"PoolQC\"].head(1))\n",
    "print(train[\"MiscFeature\"].head())"
   ]
  },
  {
   "cell_type": "code",
   "execution_count": 9,
   "metadata": {
    "_uuid": "7b79adf9260a539eca8bb165b392b28f48613812"
   },
   "outputs": [
    {
     "name": "stdout",
     "output_type": "stream",
     "text": [
      "     Id  MSSubClass MSZoning  LotFrontage  LotArea Street Alley LotShape  \\\n",
      "0  1461          20       RH         80.0    11622   Pave   NaN      Reg   \n",
      "1  1462          20       RL         81.0    14267   Pave   NaN      IR1   \n",
      "2  1463          60       RL         74.0    13830   Pave   NaN      IR1   \n",
      "3  1464          60       RL         78.0     9978   Pave   NaN      IR1   \n",
      "4  1465         120       RL         43.0     5005   Pave   NaN      IR1   \n",
      "\n",
      "  LandContour Utilities      ...       ScreenPorch PoolArea PoolQC  Fence  \\\n",
      "0         Lvl    AllPub      ...               120        0    NaN  MnPrv   \n",
      "1         Lvl    AllPub      ...                 0        0    NaN    NaN   \n",
      "2         Lvl    AllPub      ...                 0        0    NaN  MnPrv   \n",
      "3         Lvl    AllPub      ...                 0        0    NaN    NaN   \n",
      "4         HLS    AllPub      ...               144        0    NaN    NaN   \n",
      "\n",
      "  MiscFeature MiscVal MoSold  YrSold  SaleType  SaleCondition  \n",
      "0         NaN       0      6    2010        WD         Normal  \n",
      "1        Gar2   12500      6    2010        WD         Normal  \n",
      "2         NaN       0      3    2010        WD         Normal  \n",
      "3         NaN       0      6    2010        WD         Normal  \n",
      "4         NaN       0      1    2010        WD         Normal  \n",
      "\n",
      "[5 rows x 80 columns]\n",
      "(1459, 80)\n",
      "columns with the missing value:  Index(['MSZoning', 'LotFrontage', 'Alley', 'Utilities', 'Exterior1st',\n",
      "       'Exterior2nd', 'MasVnrType', 'MasVnrArea', 'BsmtQual', 'BsmtCond',\n",
      "       'BsmtExposure', 'BsmtFinType1', 'BsmtFinSF1', 'BsmtFinType2',\n",
      "       'BsmtFinSF2', 'BsmtUnfSF', 'TotalBsmtSF', 'BsmtFullBath',\n",
      "       'BsmtHalfBath', 'KitchenQual', 'Functional', 'FireplaceQu',\n",
      "       'GarageType', 'GarageYrBlt', 'GarageFinish', 'GarageCars', 'GarageArea',\n",
      "       'GarageQual', 'GarageCond', 'PoolQC', 'Fence', 'MiscFeature',\n",
      "       'SaleType'],\n",
      "      dtype='object')\n",
      "<class 'pandas.core.frame.DataFrame'>\n",
      "RangeIndex: 1459 entries, 0 to 1458\n",
      "Data columns (total 80 columns):\n",
      "Id               1459 non-null int64\n",
      "MSSubClass       1459 non-null int64\n",
      "MSZoning         1455 non-null object\n",
      "LotFrontage      1232 non-null float64\n",
      "LotArea          1459 non-null int64\n",
      "Street           1459 non-null object\n",
      "Alley            107 non-null object\n",
      "LotShape         1459 non-null object\n",
      "LandContour      1459 non-null object\n",
      "Utilities        1457 non-null object\n",
      "LotConfig        1459 non-null object\n",
      "LandSlope        1459 non-null object\n",
      "Neighborhood     1459 non-null object\n",
      "Condition1       1459 non-null object\n",
      "Condition2       1459 non-null object\n",
      "BldgType         1459 non-null object\n",
      "HouseStyle       1459 non-null object\n",
      "OverallQual      1459 non-null int64\n",
      "OverallCond      1459 non-null int64\n",
      "YearBuilt        1459 non-null int64\n",
      "YearRemodAdd     1459 non-null int64\n",
      "RoofStyle        1459 non-null object\n",
      "RoofMatl         1459 non-null object\n",
      "Exterior1st      1458 non-null object\n",
      "Exterior2nd      1458 non-null object\n",
      "MasVnrType       1443 non-null object\n",
      "MasVnrArea       1444 non-null float64\n",
      "ExterQual        1459 non-null object\n",
      "ExterCond        1459 non-null object\n",
      "Foundation       1459 non-null object\n",
      "BsmtQual         1415 non-null object\n",
      "BsmtCond         1414 non-null object\n",
      "BsmtExposure     1415 non-null object\n",
      "BsmtFinType1     1417 non-null object\n",
      "BsmtFinSF1       1458 non-null float64\n",
      "BsmtFinType2     1417 non-null object\n",
      "BsmtFinSF2       1458 non-null float64\n",
      "BsmtUnfSF        1458 non-null float64\n",
      "TotalBsmtSF      1458 non-null float64\n",
      "Heating          1459 non-null object\n",
      "HeatingQC        1459 non-null object\n",
      "CentralAir       1459 non-null object\n",
      "Electrical       1459 non-null object\n",
      "1stFlrSF         1459 non-null int64\n",
      "2ndFlrSF         1459 non-null int64\n",
      "LowQualFinSF     1459 non-null int64\n",
      "GrLivArea        1459 non-null int64\n",
      "BsmtFullBath     1457 non-null float64\n",
      "BsmtHalfBath     1457 non-null float64\n",
      "FullBath         1459 non-null int64\n",
      "HalfBath         1459 non-null int64\n",
      "BedroomAbvGr     1459 non-null int64\n",
      "KitchenAbvGr     1459 non-null int64\n",
      "KitchenQual      1458 non-null object\n",
      "TotRmsAbvGrd     1459 non-null int64\n",
      "Functional       1457 non-null object\n",
      "Fireplaces       1459 non-null int64\n",
      "FireplaceQu      729 non-null object\n",
      "GarageType       1383 non-null object\n",
      "GarageYrBlt      1381 non-null float64\n",
      "GarageFinish     1381 non-null object\n",
      "GarageCars       1458 non-null float64\n",
      "GarageArea       1458 non-null float64\n",
      "GarageQual       1381 non-null object\n",
      "GarageCond       1381 non-null object\n",
      "PavedDrive       1459 non-null object\n",
      "WoodDeckSF       1459 non-null int64\n",
      "OpenPorchSF      1459 non-null int64\n",
      "EnclosedPorch    1459 non-null int64\n",
      "3SsnPorch        1459 non-null int64\n",
      "ScreenPorch      1459 non-null int64\n",
      "PoolArea         1459 non-null int64\n",
      "PoolQC           3 non-null object\n",
      "Fence            290 non-null object\n",
      "MiscFeature      51 non-null object\n",
      "MiscVal          1459 non-null int64\n",
      "MoSold           1459 non-null int64\n",
      "YrSold           1459 non-null int64\n",
      "SaleType         1458 non-null object\n",
      "SaleCondition    1459 non-null object\n",
      "dtypes: float64(11), int64(26), object(43)\n",
      "memory usage: 912.0+ KB\n",
      "None\n"
     ]
    }
   ],
   "source": [
    "#testing set\n",
    "test=pd.read_csv(r\"C:\\Users\\hp\\Documents\\Projects\\House Price Prediction\\Input Data/test.csv\")\n",
    "print(test.head())\n",
    "print(test.shape)\n",
    "#print(test.columns)\n",
    "#print(test.dtypes)\n",
    "print(\"columns with the missing value: \",test.columns[test.isnull().any()])\n",
    "print(test.info())"
   ]
  },
  {
   "cell_type": "code",
   "execution_count": 10,
   "metadata": {
    "_uuid": "bbcd5807dc7f4619c4d487e265ff637ed1747b47",
    "scrolled": false
   },
   "outputs": [
    {
     "name": "stdout",
     "output_type": "stream",
     "text": [
      "columns with the missing value:  Index(['MSZoning', 'Utilities', 'Exterior1st', 'Exterior2nd', 'BsmtCond',\n",
      "       'BsmtFinSF1', 'BsmtFinType2', 'BsmtFinSF2', 'BsmtUnfSF', 'TotalBsmtSF',\n",
      "       'BsmtFullBath', 'BsmtHalfBath', 'KitchenQual', 'Functional',\n",
      "       'FireplaceQu', 'GarageType', 'GarageYrBlt', 'GarageFinish',\n",
      "       'GarageCars', 'GarageArea', 'GarageQual', 'GarageCond', 'Fence',\n",
      "       'MiscFeature', 'SaleType'],\n",
      "      dtype='object')\n",
      "Index(['Id', 'MSSubClass', 'MSZoning', 'LotFrontage', 'LotArea', 'Street',\n",
      "       'LotShape', 'LandContour', 'Utilities', 'LotConfig',\n",
      "       ...\n",
      "       'Gar2', 'Othr', 'Shed', 'Maj1', 'Maj2', 'Min1', 'Min2', 'Mod', 'Sev',\n",
      "       'Typ'],\n",
      "      dtype='object', length=117)\n",
      "<class 'pandas.core.frame.DataFrame'>\n",
      "RangeIndex: 1459 entries, 0 to 1458\n",
      "Columns: 117 entries, Id to Typ\n",
      "dtypes: float64(11), int64(26), object(37), uint8(43)\n",
      "memory usage: 904.8+ KB\n",
      "None\n"
     ]
    }
   ],
   "source": [
    "#testing data manipulation\n",
    "test=pd.read_csv(r\"C:\\Users\\hp\\Documents\\Projects\\House Price Prediction\\Input Data/test.csv\")\n",
    "#LotFrontage\n",
    "test[\"LotFrontage\"].fillna(test[\"LotFrontage\"].mean(),inplace=True)\n",
    "#Alley\n",
    "test[\"Alley\"].fillna(\"Z\",inplace=True)\n",
    "Alley_dummy_test=pd.get_dummies(test[\"Alley\"])\n",
    "test=pd.concat([test,Alley_dummy_test],axis=1)\n",
    "#MasVnrType\n",
    "test[\"MasVnrType\"].fillna(\"ZZ\",inplace=True)\n",
    "MasVnrType_dummy_test=pd.get_dummies(test[\"MasVnrType\"])\n",
    "test=pd.concat([test,MasVnrType_dummy_test],axis=1)\n",
    "#MasVnrArea\n",
    "test[\"MasVnrArea\"].fillna(test[\"MasVnrArea\"].mean(),inplace=True)\n",
    "#BsmtQual\n",
    "mode_BsmtQual_test=test[\"BsmtQual\"].mode()[0]\n",
    "test[\"BsmtQual\"].fillna(mode_BsmtQual_test,inplace=True)\n",
    "BsmtQual_dummy_test=pd.get_dummies(test[\"BsmtQual\"])\n",
    "test=pd.concat([test,BsmtQual_dummy_test],axis=1)\n",
    "#BsmtExposure\n",
    "mode_BsmtExposure_test=test[\"BsmtExposure\"].mode()[0]\n",
    "test[\"BsmtExposure\"].fillna(mode_BsmtExposure_test,inplace=True)\n",
    "test[\"BsmtExposure\"].replace(\"Gd\",\"Good\",inplace=True)\n",
    "BsmtExposure_dummy_test=pd.get_dummies(test[\"BsmtExposure\"])\n",
    "test=pd.concat([test,BsmtExposure_dummy_test],axis=1)\n",
    "#BsmtFinType1\n",
    "mode_BsmtFinType1_test=test[\"BsmtFinType1\"].mode()[0]\n",
    "test[\"BsmtFinType1\"].fillna(mode_BsmtFinType1_test,inplace=True)\n",
    "BsmtFinType1_dummy_test=pd.get_dummies(test[\"BsmtFinType1\"])\n",
    "test=pd.concat([test,BsmtFinType1_dummy_test],axis=1)\n",
    "#Electrical\n",
    "test[\"Electrical\"].fillna(test[\"Electrical\"].mode()[0],inplace=True)\n",
    "Electrical_dummy_test=pd.get_dummies(test[\"Electrical\"])\n",
    "test=pd.concat([test,Electrical_dummy_test],axis=1)\n",
    "\n",
    "#PoolQC\n",
    "test[\"PoolQC\"].fillna(\"ZZZ\",inplace=True)\n",
    "PoolQC_dummy_test=pd.get_dummies(test[\"PoolQC\"])\n",
    "test=pd.concat([test,PoolQC_dummy_test],axis=1)\n",
    "#Fence\n",
    "test[\"Fence\"].fillna(\"FenceZ\",inplace=True)\n",
    "Fence_dummy_test=pd.get_dummies(test[\"Fence\"])\n",
    "test=pd.concat([test,Fence_dummy_test],axis=1)\n",
    "#MiscFeature\n",
    "test[\"MiscFeature\"].fillna(\"ZZZZZ\",inplace=True)\n",
    "MiscFeature_dummy_test=pd.get_dummies(test[\"MiscFeature\"])\n",
    "test=pd.concat([test,MiscFeature_dummy_test],axis=1)\n",
    "\n",
    "#BsmtUnfSF\n",
    "test[\"BsmtUnfSF\"].fillna(test[\"BsmtUnfSF\"].mean(),inplace=True)\n",
    "#TotalBsmtSF\n",
    "test[\"TotalBsmtSF\"].fillna(test[\"TotalBsmtSF\"].mean(),inplace=True)\n",
    "#BsmtFullBath\n",
    "test[\"BsmtFullBath\"].fillna(test[\"BsmtFullBath\"].mode()[0],inplace=True)\n",
    "#BsmtHalfBath\n",
    "test[\"BsmtHalfBath\"].replace(np.nan,test[\"BsmtHalfBath\"].mode()[0],inplace=True)\n",
    "#Functional\n",
    "test[\"Functional\"].fillna(test[\"Functional\"].mode()[0],inplace=True)\n",
    "test=pd.concat([test,pd.get_dummies(test[\"Functional\"])],axis=1)\n",
    "#GarageCars\n",
    "test[\"GarageCars\"].fillna(test[\"GarageCars\"].mode()[0],inplace=True)\n",
    "\n",
    "test.drop(test[[\"Alley\",\"MasVnrType\",\"BsmtQual\",\"BsmtExposure\",\"BsmtFinType1\",\"Electrical\"]],axis=1,inplace=True)\n",
    "print(\"columns with the missing value: \",test.columns[test.isnull().any()])\n",
    "print(test.columns)\n",
    "print(test.info())"
   ]
  },
  {
   "cell_type": "code",
   "execution_count": 11,
   "metadata": {
    "_uuid": "af5d18df42fe2a3c6d10838d4bf01bdd00a6ef16"
   },
   "outputs": [
    {
     "data": {
      "image/png": "[encoded data removed]",
      "text/plain": [
       "<Figure size 432x288 with 1 Axes>"
      ]
     },
     "metadata": {
      "needs_background": "light"
     },
     "output_type": "display_data"
    }
   ],
   "source": [
    "#data visualization of training set\n",
    "plt.scatter(train.LotArea,train.SalePrice,  color='blue')\n",
    "plt.xlabel(\"LotArea\")\n",
    "plt.ylabel(\"SalePrice\")\n",
    "plt.show()"
   ]
  },
  {
   "cell_type": "code",
   "execution_count": 12,
   "metadata": {
    "_uuid": "da20771c55c61722b30d625a0266fae40e1ee0c0"
   },
   "outputs": [
    {
     "ename": "KeyError",
     "evalue": "\"['ZZ' 'Good' 'Z' 'ZZZ'] not in index\"",
     "output_type": "error",
     "traceback": [
      "\u001b[1;31m---------------------------------------------------------------------------\u001b[0m",
      "\u001b[1;31mKeyError\u001b[0m                                  Traceback (most recent call last)",
      "\u001b[1;32m<ipython-input-12-dd94d6707dd3>\u001b[0m in \u001b[0;36m<module>\u001b[1;34m\u001b[0m\n\u001b[0;32m      1\u001b[0m \u001b[1;31m#training set distribution\u001b[0m\u001b[1;33m\u001b[0m\u001b[1;33m\u001b[0m\u001b[1;33m\u001b[0m\u001b[0m\n\u001b[1;32m----> 2\u001b[1;33m \u001b[0mtrain_x\u001b[0m\u001b[1;33m=\u001b[0m\u001b[0mnp\u001b[0m\u001b[1;33m.\u001b[0m\u001b[0masarray\u001b[0m\u001b[1;33m(\u001b[0m\u001b[0mtrain\u001b[0m\u001b[1;33m[\u001b[0m\u001b[1;33m[\u001b[0m\u001b[1;34m'Id'\u001b[0m\u001b[1;33m,\u001b[0m\u001b[1;34m'BrkCmn'\u001b[0m\u001b[1;33m,\u001b[0m\u001b[1;34m'ZZ'\u001b[0m\u001b[1;33m,\u001b[0m\u001b[1;34m'Ex'\u001b[0m\u001b[1;33m,\u001b[0m\u001b[1;34m'Fa'\u001b[0m\u001b[1;33m,\u001b[0m\u001b[1;34m'Gd'\u001b[0m\u001b[1;33m,\u001b[0m\u001b[1;34m'TA'\u001b[0m\u001b[1;33m,\u001b[0m\u001b[1;34m'Av'\u001b[0m\u001b[1;33m,\u001b[0m\u001b[1;34m'Good'\u001b[0m\u001b[1;33m,\u001b[0m\u001b[1;34m'Mn'\u001b[0m\u001b[1;33m,\u001b[0m\u001b[1;34m'No'\u001b[0m\u001b[1;33m,\u001b[0m\u001b[1;34m'ALQ'\u001b[0m\u001b[1;33m,\u001b[0m \u001b[1;34m'BLQ'\u001b[0m\u001b[1;33m,\u001b[0m \u001b[1;34m'GLQ'\u001b[0m\u001b[1;33m,\u001b[0m \u001b[1;34m'LwQ'\u001b[0m\u001b[1;33m,\u001b[0m \u001b[1;34m'Rec'\u001b[0m\u001b[1;33m,\u001b[0m \u001b[1;34m'Unf'\u001b[0m\u001b[1;33m,\u001b[0m\u001b[1;34m'FuseA'\u001b[0m\u001b[1;33m,\u001b[0m \u001b[1;34m'FuseF'\u001b[0m\u001b[1;33m,\u001b[0m \u001b[1;34m'FuseP'\u001b[0m\u001b[1;33m,\u001b[0m \u001b[1;34m'SBrkr'\u001b[0m\u001b[1;33m,\u001b[0m\u001b[1;34m'BrkFace'\u001b[0m\u001b[1;33m,\u001b[0m\u001b[1;34m'None'\u001b[0m\u001b[1;33m,\u001b[0m\u001b[1;34m'Stone'\u001b[0m\u001b[1;33m,\u001b[0m\u001b[1;34m'MSSubClass'\u001b[0m\u001b[1;33m,\u001b[0m\u001b[1;34m'LotArea'\u001b[0m\u001b[1;33m,\u001b[0m\u001b[1;34m'OverallQual'\u001b[0m\u001b[1;33m,\u001b[0m\u001b[1;34m'OverallCond'\u001b[0m\u001b[1;33m,\u001b[0m\u001b[1;34m'YearBuilt'\u001b[0m\u001b[1;33m,\u001b[0m\u001b[1;34m'1stFlrSF'\u001b[0m\u001b[1;33m,\u001b[0m\u001b[1;34m'2ndFlrSF'\u001b[0m\u001b[1;33m,\u001b[0m\u001b[1;34m'LowQualFinSF'\u001b[0m\u001b[1;33m,\u001b[0m\u001b[1;34m'GrLivArea'\u001b[0m\u001b[1;33m,\u001b[0m\u001b[1;34m'TotRmsAbvGrd'\u001b[0m\u001b[1;33m,\u001b[0m\u001b[1;34m'Grvl'\u001b[0m\u001b[1;33m,\u001b[0m\u001b[1;34m'Pave'\u001b[0m\u001b[1;33m,\u001b[0m\u001b[1;34m'Z'\u001b[0m\u001b[1;33m,\u001b[0m\u001b[1;34m'LotFrontage'\u001b[0m\u001b[1;33m,\u001b[0m\u001b[1;34m'Othr'\u001b[0m\u001b[1;33m,\u001b[0m \u001b[1;34m'Shed'\u001b[0m\u001b[1;33m,\u001b[0m \u001b[1;34m'Maj1'\u001b[0m\u001b[1;33m,\u001b[0m \u001b[1;34m'Maj2'\u001b[0m\u001b[1;33m,\u001b[0m \u001b[1;34m'Min1'\u001b[0m\u001b[1;33m,\u001b[0m \u001b[1;34m'Min2'\u001b[0m\u001b[1;33m,\u001b[0m \u001b[1;34m'Mod'\u001b[0m\u001b[1;33m,\u001b[0m \u001b[1;34m'Sev'\u001b[0m\u001b[1;33m,\u001b[0m\u001b[1;34m'Typ'\u001b[0m\u001b[1;33m,\u001b[0m \u001b[1;34m'ZZZ'\u001b[0m\u001b[1;33m,\u001b[0m \u001b[1;34m'GdPrv'\u001b[0m\u001b[1;33m,\u001b[0m \u001b[1;34m'GdWo'\u001b[0m\u001b[1;33m,\u001b[0m \u001b[1;34m'MnPrv'\u001b[0m\u001b[1;33m,\u001b[0m \u001b[1;34m'MnWw'\u001b[0m\u001b[1;33m,\u001b[0m \u001b[1;34m'Gar2'\u001b[0m\u001b[1;33m]\u001b[0m\u001b[1;33m]\u001b[0m\u001b[1;33m)\u001b[0m\u001b[1;33m\u001b[0m\u001b[1;33m\u001b[0m\u001b[0m\n\u001b[0m\u001b[0;32m      3\u001b[0m \u001b[0mtrain_y\u001b[0m\u001b[1;33m=\u001b[0m\u001b[0mnp\u001b[0m\u001b[1;33m.\u001b[0m\u001b[0masarray\u001b[0m\u001b[1;33m(\u001b[0m\u001b[0mtrain\u001b[0m\u001b[1;33m[\u001b[0m\u001b[1;33m[\u001b[0m\u001b[1;34m'SalePrice'\u001b[0m\u001b[1;33m]\u001b[0m\u001b[1;33m]\u001b[0m\u001b[1;33m)\u001b[0m\u001b[1;33m\u001b[0m\u001b[1;33m\u001b[0m\u001b[0m\n\u001b[0;32m      4\u001b[0m \u001b[0mprint\u001b[0m\u001b[1;33m(\u001b[0m\u001b[1;34m\"shape of training set: \"\u001b[0m\u001b[1;33m,\u001b[0m\u001b[0mtrain_x\u001b[0m\u001b[1;33m.\u001b[0m\u001b[0mshape\u001b[0m\u001b[1;33m,\u001b[0m\u001b[0mtrain_y\u001b[0m\u001b[1;33m.\u001b[0m\u001b[0mshape\u001b[0m\u001b[1;33m)\u001b[0m\u001b[1;33m\u001b[0m\u001b[1;33m\u001b[0m\u001b[0m\n",
      "\u001b[1;32mC:\\ProgramData\\Anaconda3\\lib\\site-packages\\pandas\\core\\frame.py\u001b[0m in \u001b[0;36m__getitem__\u001b[1;34m(self, key)\u001b[0m\n\u001b[0;32m   2680\u001b[0m         \u001b[1;32mif\u001b[0m \u001b[0misinstance\u001b[0m\u001b[1;33m(\u001b[0m\u001b[0mkey\u001b[0m\u001b[1;33m,\u001b[0m \u001b[1;33m(\u001b[0m\u001b[0mSeries\u001b[0m\u001b[1;33m,\u001b[0m \u001b[0mnp\u001b[0m\u001b[1;33m.\u001b[0m\u001b[0mndarray\u001b[0m\u001b[1;33m,\u001b[0m \u001b[0mIndex\u001b[0m\u001b[1;33m,\u001b[0m \u001b[0mlist\u001b[0m\u001b[1;33m)\u001b[0m\u001b[1;33m)\u001b[0m\u001b[1;33m:\u001b[0m\u001b[1;33m\u001b[0m\u001b[1;33m\u001b[0m\u001b[0m\n\u001b[0;32m   2681\u001b[0m             \u001b[1;31m# either boolean or fancy integer index\u001b[0m\u001b[1;33m\u001b[0m\u001b[1;33m\u001b[0m\u001b[1;33m\u001b[0m\u001b[0m\n\u001b[1;32m-> 2682\u001b[1;33m             \u001b[1;32mreturn\u001b[0m \u001b[0mself\u001b[0m\u001b[1;33m.\u001b[0m\u001b[0m_getitem_array\u001b[0m\u001b[1;33m(\u001b[0m\u001b[0mkey\u001b[0m\u001b[1;33m)\u001b[0m\u001b[1;33m\u001b[0m\u001b[1;33m\u001b[0m\u001b[0m\n\u001b[0m\u001b[0;32m   2683\u001b[0m         \u001b[1;32melif\u001b[0m \u001b[0misinstance\u001b[0m\u001b[1;33m(\u001b[0m\u001b[0mkey\u001b[0m\u001b[1;33m,\u001b[0m \u001b[0mDataFrame\u001b[0m\u001b[1;33m)\u001b[0m\u001b[1;33m:\u001b[0m\u001b[1;33m\u001b[0m\u001b[1;33m\u001b[0m\u001b[0m\n\u001b[0;32m   2684\u001b[0m             \u001b[1;32mreturn\u001b[0m \u001b[0mself\u001b[0m\u001b[1;33m.\u001b[0m\u001b[0m_getitem_frame\u001b[0m\u001b[1;33m(\u001b[0m\u001b[0mkey\u001b[0m\u001b[1;33m)\u001b[0m\u001b[1;33m\u001b[0m\u001b[1;33m\u001b[0m\u001b[0m\n",
      "\u001b[1;32mC:\\ProgramData\\Anaconda3\\lib\\site-packages\\pandas\\core\\frame.py\u001b[0m in \u001b[0;36m_getitem_array\u001b[1;34m(self, key)\u001b[0m\n\u001b[0;32m   2724\u001b[0m             \u001b[1;32mreturn\u001b[0m \u001b[0mself\u001b[0m\u001b[1;33m.\u001b[0m\u001b[0m_take\u001b[0m\u001b[1;33m(\u001b[0m\u001b[0mindexer\u001b[0m\u001b[1;33m,\u001b[0m \u001b[0maxis\u001b[0m\u001b[1;33m=\u001b[0m\u001b[1;36m0\u001b[0m\u001b[1;33m)\u001b[0m\u001b[1;33m\u001b[0m\u001b[1;33m\u001b[0m\u001b[0m\n\u001b[0;32m   2725\u001b[0m         \u001b[1;32melse\u001b[0m\u001b[1;33m:\u001b[0m\u001b[1;33m\u001b[0m\u001b[1;33m\u001b[0m\u001b[0m\n\u001b[1;32m-> 2726\u001b[1;33m             \u001b[0mindexer\u001b[0m \u001b[1;33m=\u001b[0m \u001b[0mself\u001b[0m\u001b[1;33m.\u001b[0m\u001b[0mloc\u001b[0m\u001b[1;33m.\u001b[0m\u001b[0m_convert_to_indexer\u001b[0m\u001b[1;33m(\u001b[0m\u001b[0mkey\u001b[0m\u001b[1;33m,\u001b[0m \u001b[0maxis\u001b[0m\u001b[1;33m=\u001b[0m\u001b[1;36m1\u001b[0m\u001b[1;33m)\u001b[0m\u001b[1;33m\u001b[0m\u001b[1;33m\u001b[0m\u001b[0m\n\u001b[0m\u001b[0;32m   2727\u001b[0m             \u001b[1;32mreturn\u001b[0m \u001b[0mself\u001b[0m\u001b[1;33m.\u001b[0m\u001b[0m_take\u001b[0m\u001b[1;33m(\u001b[0m\u001b[0mindexer\u001b[0m\u001b[1;33m,\u001b[0m \u001b[0maxis\u001b[0m\u001b[1;33m=\u001b[0m\u001b[1;36m1\u001b[0m\u001b[1;33m)\u001b[0m\u001b[1;33m\u001b[0m\u001b[1;33m\u001b[0m\u001b[0m\n\u001b[0;32m   2728\u001b[0m \u001b[1;33m\u001b[0m\u001b[0m\n",
      "\u001b[1;32mC:\\ProgramData\\Anaconda3\\lib\\site-packages\\pandas\\core\\indexing.py\u001b[0m in \u001b[0;36m_convert_to_indexer\u001b[1;34m(self, obj, axis, is_setter)\u001b[0m\n\u001b[0;32m   1325\u001b[0m                 \u001b[1;32mif\u001b[0m \u001b[0mmask\u001b[0m\u001b[1;33m.\u001b[0m\u001b[0many\u001b[0m\u001b[1;33m(\u001b[0m\u001b[1;33m)\u001b[0m\u001b[1;33m:\u001b[0m\u001b[1;33m\u001b[0m\u001b[1;33m\u001b[0m\u001b[0m\n\u001b[0;32m   1326\u001b[0m                     raise KeyError('{mask} not in index'\n\u001b[1;32m-> 1327\u001b[1;33m                                    .format(mask=objarr[mask]))\n\u001b[0m\u001b[0;32m   1328\u001b[0m \u001b[1;33m\u001b[0m\u001b[0m\n\u001b[0;32m   1329\u001b[0m                 \u001b[1;32mreturn\u001b[0m \u001b[0mcom\u001b[0m\u001b[1;33m.\u001b[0m\u001b[0m_values_from_object\u001b[0m\u001b[1;33m(\u001b[0m\u001b[0mindexer\u001b[0m\u001b[1;33m)\u001b[0m\u001b[1;33m\u001b[0m\u001b[1;33m\u001b[0m\u001b[0m\n",
      "\u001b[1;31mKeyError\u001b[0m: \"['ZZ' 'Good' 'Z' 'ZZZ'] not in index\""
     ]
    }
   ],
   "source": [
    "#training set distribution\n",
    "train_x=np.asarray(train[['Id','BrkCmn','ZZ','Ex','Fa','Gd','TA','Av','Good','Mn','No','ALQ', 'BLQ', 'GLQ', 'LwQ', 'Rec', 'Unf','FuseA', 'FuseF', 'FuseP', 'SBrkr','BrkFace','None','Stone','MSSubClass','LotArea','OverallQual','OverallCond','YearBuilt','1stFlrSF','2ndFlrSF','LowQualFinSF','GrLivArea','TotRmsAbvGrd','Grvl','Pave','Z','LotFrontage','Othr', 'Shed', 'Maj1', 'Maj2', 'Min1', 'Min2', 'Mod', 'Sev','Typ', 'ZZZ', 'GdPrv', 'GdWo', 'MnPrv', 'MnWw', 'Gar2']])\n",
    "train_y=np.asarray(train[['SalePrice']])\n",
    "print(\"shape of training set: \",train_x.shape,train_y.shape)"
   ]
  },
  {
   "cell_type": "code",
   "execution_count": 13,
   "metadata": {
    "_uuid": "1568fd864806b7d18e95905d79771f4b55c31a2d"
   },
   "outputs": [
    {
     "name": "stdout",
     "output_type": "stream",
     "text": [
      "shape of test set used:  (1459, 55)\n"
     ]
    }
   ],
   "source": [
    "#testing set\n",
    "test_x=np.asarray(test[['Id','BrkCmn','ZZ','Ex','Fa','Gd','TA','Av','Good','Mn','No','ALQ', 'BLQ', 'GLQ', 'LwQ', 'Rec', 'Unf','FuseA', 'FuseF', 'FuseP', 'SBrkr','BrkFace','None','Stone','MSSubClass','LotArea','OverallQual','OverallCond','YearBuilt','1stFlrSF','2ndFlrSF','LowQualFinSF','GrLivArea','TotRmsAbvGrd','Grvl','Pave','Z','LotFrontage','Othr', 'Shed', 'Maj1', 'Maj2', 'Min1', 'Min2', 'Mod', 'Sev','Typ', 'ZZZ', 'GdPrv', 'GdWo', 'MnPrv', 'MnWw', 'Gar2']])\n",
    "print(\"shape of test set used: \",test_x.shape)"
   ]
  },
  {
   "cell_type": "code",
   "execution_count": 14,
   "metadata": {
    "_uuid": "9dbdd4630aecaff746fcaeee1efddd138931f64a"
   },
   "outputs": [
    {
     "ename": "NameError",
     "evalue": "name 'train_x' is not defined",
     "output_type": "error",
     "traceback": [
      "\u001b[1;31m---------------------------------------------------------------------------\u001b[0m",
      "\u001b[1;31mNameError\u001b[0m                                 Traceback (most recent call last)",
      "\u001b[1;32m<ipython-input-14-0ee2231a74bf>\u001b[0m in \u001b[0;36m<module>\u001b[1;34m\u001b[0m\n\u001b[0;32m      1\u001b[0m \u001b[1;31m#training of model\u001b[0m\u001b[1;33m\u001b[0m\u001b[1;33m\u001b[0m\u001b[1;33m\u001b[0m\u001b[0m\n\u001b[0;32m      2\u001b[0m \u001b[0mreg\u001b[0m\u001b[1;33m=\u001b[0m\u001b[0mlinear_model\u001b[0m\u001b[1;33m.\u001b[0m\u001b[0mLinearRegression\u001b[0m\u001b[1;33m(\u001b[0m\u001b[1;33m)\u001b[0m\u001b[1;33m\u001b[0m\u001b[1;33m\u001b[0m\u001b[0m\n\u001b[1;32m----> 3\u001b[1;33m \u001b[0mreg\u001b[0m\u001b[1;33m.\u001b[0m\u001b[0mfit\u001b[0m\u001b[1;33m(\u001b[0m\u001b[0mtrain_x\u001b[0m\u001b[1;33m,\u001b[0m\u001b[0mtrain_y\u001b[0m\u001b[1;33m)\u001b[0m\u001b[1;33m\u001b[0m\u001b[1;33m\u001b[0m\u001b[0m\n\u001b[0m",
      "\u001b[1;31mNameError\u001b[0m: name 'train_x' is not defined"
     ]
    }
   ],
   "source": [
    "#training of model\n",
    "reg=linear_model.LinearRegression()\n",
    "reg.fit(train_x,train_y)"
   ]
  },
  {
   "cell_type": "code",
   "execution_count": 15,
   "metadata": {
    "_uuid": "3bb57251607d3bd7f2669c2ae3c4c02c8e6b55d1"
   },
   "outputs": [
    {
     "ename": "NotFittedError",
     "evalue": "This LinearRegression instance is not fitted yet. Call 'fit' with appropriate arguments before using this method.",
     "output_type": "error",
     "traceback": [
      "\u001b[1;31m---------------------------------------------------------------------------\u001b[0m",
      "\u001b[1;31mNotFittedError\u001b[0m                            Traceback (most recent call last)",
      "\u001b[1;32m<ipython-input-15-4508d68d0d95>\u001b[0m in \u001b[0;36m<module>\u001b[1;34m\u001b[0m\n\u001b[0;32m      1\u001b[0m \u001b[1;31m#prediction of the test set data\u001b[0m\u001b[1;33m\u001b[0m\u001b[1;33m\u001b[0m\u001b[1;33m\u001b[0m\u001b[0m\n\u001b[1;32m----> 2\u001b[1;33m \u001b[0myhat\u001b[0m\u001b[1;33m=\u001b[0m\u001b[0mreg\u001b[0m\u001b[1;33m.\u001b[0m\u001b[0mpredict\u001b[0m\u001b[1;33m(\u001b[0m\u001b[0mtest_x\u001b[0m\u001b[1;33m)\u001b[0m\u001b[1;33m\u001b[0m\u001b[1;33m\u001b[0m\u001b[0m\n\u001b[0m\u001b[0;32m      3\u001b[0m \u001b[0myhat\u001b[0m\u001b[1;33m[\u001b[0m\u001b[1;36m0\u001b[0m\u001b[1;33m:\u001b[0m\u001b[1;36m5\u001b[0m\u001b[1;33m]\u001b[0m\u001b[1;33m\u001b[0m\u001b[1;33m\u001b[0m\u001b[0m\n",
      "\u001b[1;32mC:\\ProgramData\\Anaconda3\\lib\\site-packages\\sklearn\\linear_model\\base.py\u001b[0m in \u001b[0;36mpredict\u001b[1;34m(self, X)\u001b[0m\n\u001b[0;32m    211\u001b[0m             \u001b[0mReturns\u001b[0m \u001b[0mpredicted\u001b[0m \u001b[0mvalues\u001b[0m\u001b[1;33m.\u001b[0m\u001b[1;33m\u001b[0m\u001b[1;33m\u001b[0m\u001b[0m\n\u001b[0;32m    212\u001b[0m         \"\"\"\n\u001b[1;32m--> 213\u001b[1;33m         \u001b[1;32mreturn\u001b[0m \u001b[0mself\u001b[0m\u001b[1;33m.\u001b[0m\u001b[0m_decision_function\u001b[0m\u001b[1;33m(\u001b[0m\u001b[0mX\u001b[0m\u001b[1;33m)\u001b[0m\u001b[1;33m\u001b[0m\u001b[1;33m\u001b[0m\u001b[0m\n\u001b[0m\u001b[0;32m    214\u001b[0m \u001b[1;33m\u001b[0m\u001b[0m\n\u001b[0;32m    215\u001b[0m     \u001b[0m_preprocess_data\u001b[0m \u001b[1;33m=\u001b[0m \u001b[0mstaticmethod\u001b[0m\u001b[1;33m(\u001b[0m\u001b[0m_preprocess_data\u001b[0m\u001b[1;33m)\u001b[0m\u001b[1;33m\u001b[0m\u001b[1;33m\u001b[0m\u001b[0m\n",
      "\u001b[1;32mC:\\ProgramData\\Anaconda3\\lib\\site-packages\\sklearn\\linear_model\\base.py\u001b[0m in \u001b[0;36m_decision_function\u001b[1;34m(self, X)\u001b[0m\n\u001b[0;32m    192\u001b[0m \u001b[1;33m\u001b[0m\u001b[0m\n\u001b[0;32m    193\u001b[0m     \u001b[1;32mdef\u001b[0m \u001b[0m_decision_function\u001b[0m\u001b[1;33m(\u001b[0m\u001b[0mself\u001b[0m\u001b[1;33m,\u001b[0m \u001b[0mX\u001b[0m\u001b[1;33m)\u001b[0m\u001b[1;33m:\u001b[0m\u001b[1;33m\u001b[0m\u001b[1;33m\u001b[0m\u001b[0m\n\u001b[1;32m--> 194\u001b[1;33m         \u001b[0mcheck_is_fitted\u001b[0m\u001b[1;33m(\u001b[0m\u001b[0mself\u001b[0m\u001b[1;33m,\u001b[0m \u001b[1;34m\"coef_\"\u001b[0m\u001b[1;33m)\u001b[0m\u001b[1;33m\u001b[0m\u001b[1;33m\u001b[0m\u001b[0m\n\u001b[0m\u001b[0;32m    195\u001b[0m \u001b[1;33m\u001b[0m\u001b[0m\n\u001b[0;32m    196\u001b[0m         \u001b[0mX\u001b[0m \u001b[1;33m=\u001b[0m \u001b[0mcheck_array\u001b[0m\u001b[1;33m(\u001b[0m\u001b[0mX\u001b[0m\u001b[1;33m,\u001b[0m \u001b[0maccept_sparse\u001b[0m\u001b[1;33m=\u001b[0m\u001b[1;33m[\u001b[0m\u001b[1;34m'csr'\u001b[0m\u001b[1;33m,\u001b[0m \u001b[1;34m'csc'\u001b[0m\u001b[1;33m,\u001b[0m \u001b[1;34m'coo'\u001b[0m\u001b[1;33m]\u001b[0m\u001b[1;33m)\u001b[0m\u001b[1;33m\u001b[0m\u001b[1;33m\u001b[0m\u001b[0m\n",
      "\u001b[1;32mC:\\ProgramData\\Anaconda3\\lib\\site-packages\\sklearn\\utils\\validation.py\u001b[0m in \u001b[0;36mcheck_is_fitted\u001b[1;34m(estimator, attributes, msg, all_or_any)\u001b[0m\n\u001b[0;32m    949\u001b[0m \u001b[1;33m\u001b[0m\u001b[0m\n\u001b[0;32m    950\u001b[0m     \u001b[1;32mif\u001b[0m \u001b[1;32mnot\u001b[0m \u001b[0mall_or_any\u001b[0m\u001b[1;33m(\u001b[0m\u001b[1;33m[\u001b[0m\u001b[0mhasattr\u001b[0m\u001b[1;33m(\u001b[0m\u001b[0mestimator\u001b[0m\u001b[1;33m,\u001b[0m \u001b[0mattr\u001b[0m\u001b[1;33m)\u001b[0m \u001b[1;32mfor\u001b[0m \u001b[0mattr\u001b[0m \u001b[1;32min\u001b[0m \u001b[0mattributes\u001b[0m\u001b[1;33m]\u001b[0m\u001b[1;33m)\u001b[0m\u001b[1;33m:\u001b[0m\u001b[1;33m\u001b[0m\u001b[1;33m\u001b[0m\u001b[0m\n\u001b[1;32m--> 951\u001b[1;33m         \u001b[1;32mraise\u001b[0m \u001b[0mNotFittedError\u001b[0m\u001b[1;33m(\u001b[0m\u001b[0mmsg\u001b[0m \u001b[1;33m%\u001b[0m \u001b[1;33m{\u001b[0m\u001b[1;34m'name'\u001b[0m\u001b[1;33m:\u001b[0m \u001b[0mtype\u001b[0m\u001b[1;33m(\u001b[0m\u001b[0mestimator\u001b[0m\u001b[1;33m)\u001b[0m\u001b[1;33m.\u001b[0m\u001b[0m__name__\u001b[0m\u001b[1;33m}\u001b[0m\u001b[1;33m)\u001b[0m\u001b[1;33m\u001b[0m\u001b[1;33m\u001b[0m\u001b[0m\n\u001b[0m\u001b[0;32m    952\u001b[0m \u001b[1;33m\u001b[0m\u001b[0m\n\u001b[0;32m    953\u001b[0m \u001b[1;33m\u001b[0m\u001b[0m\n",
      "\u001b[1;31mNotFittedError\u001b[0m: This LinearRegression instance is not fitted yet. Call 'fit' with appropriate arguments before using this method."
     ]
    }
   ],
   "source": [
    "#prediction of the test set data\n",
    "yhat=reg.predict(test_x)\n",
    "yhat[0:5]"
   ]
  },
  {
   "cell_type": "code",
   "execution_count": 16,
   "metadata": {
    "_uuid": "046fb688417afcbdaaaba31b225109375b590075",
    "scrolled": true
   },
   "outputs": [
    {
     "ename": "FileNotFoundError",
     "evalue": "File b'../input/sample_submission.csv' does not exist",
     "output_type": "error",
     "traceback": [
      "\u001b[1;31m---------------------------------------------------------------------------\u001b[0m",
      "\u001b[1;31mFileNotFoundError\u001b[0m                         Traceback (most recent call last)",
      "\u001b[1;32m<ipython-input-16-d4524c42a91b>\u001b[0m in \u001b[0;36m<module>\u001b[1;34m\u001b[0m\n\u001b[1;32m----> 1\u001b[1;33m \u001b[0msub_df\u001b[0m \u001b[1;33m=\u001b[0m \u001b[0mpd\u001b[0m\u001b[1;33m.\u001b[0m\u001b[0mread_csv\u001b[0m\u001b[1;33m(\u001b[0m\u001b[1;34m\"../input/sample_submission.csv\"\u001b[0m\u001b[1;33m)\u001b[0m\u001b[1;33m\u001b[0m\u001b[1;33m\u001b[0m\u001b[0m\n\u001b[0m\u001b[0;32m      2\u001b[0m \u001b[0msub_df\u001b[0m\u001b[1;33m.\u001b[0m\u001b[0mSalePrice\u001b[0m \u001b[1;33m=\u001b[0m \u001b[0myhat\u001b[0m\u001b[1;33m\u001b[0m\u001b[1;33m\u001b[0m\u001b[0m\n\u001b[0;32m      3\u001b[0m \u001b[0msub_df\u001b[0m\u001b[1;33m.\u001b[0m\u001b[0mto_csv\u001b[0m\u001b[1;33m(\u001b[0m\u001b[1;34m\"submission.csv\"\u001b[0m\u001b[1;33m,\u001b[0m \u001b[0mindex\u001b[0m\u001b[1;33m=\u001b[0m\u001b[1;32mFalse\u001b[0m\u001b[1;33m)\u001b[0m\u001b[1;33m\u001b[0m\u001b[1;33m\u001b[0m\u001b[0m\n",
      "\u001b[1;32mC:\\ProgramData\\Anaconda3\\lib\\site-packages\\pandas\\io\\parsers.py\u001b[0m in \u001b[0;36mparser_f\u001b[1;34m(filepath_or_buffer, sep, delimiter, header, names, index_col, usecols, squeeze, prefix, mangle_dupe_cols, dtype, engine, converters, true_values, false_values, skipinitialspace, skiprows, nrows, na_values, keep_default_na, na_filter, verbose, skip_blank_lines, parse_dates, infer_datetime_format, keep_date_col, date_parser, dayfirst, iterator, chunksize, compression, thousands, decimal, lineterminator, quotechar, quoting, escapechar, comment, encoding, dialect, tupleize_cols, error_bad_lines, warn_bad_lines, skipfooter, doublequote, delim_whitespace, low_memory, memory_map, float_precision)\u001b[0m\n\u001b[0;32m    676\u001b[0m                     skip_blank_lines=skip_blank_lines)\n\u001b[0;32m    677\u001b[0m \u001b[1;33m\u001b[0m\u001b[0m\n\u001b[1;32m--> 678\u001b[1;33m         \u001b[1;32mreturn\u001b[0m \u001b[0m_read\u001b[0m\u001b[1;33m(\u001b[0m\u001b[0mfilepath_or_buffer\u001b[0m\u001b[1;33m,\u001b[0m \u001b[0mkwds\u001b[0m\u001b[1;33m)\u001b[0m\u001b[1;33m\u001b[0m\u001b[1;33m\u001b[0m\u001b[0m\n\u001b[0m\u001b[0;32m    679\u001b[0m \u001b[1;33m\u001b[0m\u001b[0m\n\u001b[0;32m    680\u001b[0m     \u001b[0mparser_f\u001b[0m\u001b[1;33m.\u001b[0m\u001b[0m__name__\u001b[0m \u001b[1;33m=\u001b[0m \u001b[0mname\u001b[0m\u001b[1;33m\u001b[0m\u001b[1;33m\u001b[0m\u001b[0m\n",
      "\u001b[1;32mC:\\ProgramData\\Anaconda3\\lib\\site-packages\\pandas\\io\\parsers.py\u001b[0m in \u001b[0;36m_read\u001b[1;34m(filepath_or_buffer, kwds)\u001b[0m\n\u001b[0;32m    438\u001b[0m \u001b[1;33m\u001b[0m\u001b[0m\n\u001b[0;32m    439\u001b[0m     \u001b[1;31m# Create the parser.\u001b[0m\u001b[1;33m\u001b[0m\u001b[1;33m\u001b[0m\u001b[1;33m\u001b[0m\u001b[0m\n\u001b[1;32m--> 440\u001b[1;33m     \u001b[0mparser\u001b[0m \u001b[1;33m=\u001b[0m \u001b[0mTextFileReader\u001b[0m\u001b[1;33m(\u001b[0m\u001b[0mfilepath_or_buffer\u001b[0m\u001b[1;33m,\u001b[0m \u001b[1;33m**\u001b[0m\u001b[0mkwds\u001b[0m\u001b[1;33m)\u001b[0m\u001b[1;33m\u001b[0m\u001b[1;33m\u001b[0m\u001b[0m\n\u001b[0m\u001b[0;32m    441\u001b[0m \u001b[1;33m\u001b[0m\u001b[0m\n\u001b[0;32m    442\u001b[0m     \u001b[1;32mif\u001b[0m \u001b[0mchunksize\u001b[0m \u001b[1;32mor\u001b[0m \u001b[0miterator\u001b[0m\u001b[1;33m:\u001b[0m\u001b[1;33m\u001b[0m\u001b[1;33m\u001b[0m\u001b[0m\n",
      "\u001b[1;32mC:\\ProgramData\\Anaconda3\\lib\\site-packages\\pandas\\io\\parsers.py\u001b[0m in \u001b[0;36m__init__\u001b[1;34m(self, f, engine, **kwds)\u001b[0m\n\u001b[0;32m    785\u001b[0m             \u001b[0mself\u001b[0m\u001b[1;33m.\u001b[0m\u001b[0moptions\u001b[0m\u001b[1;33m[\u001b[0m\u001b[1;34m'has_index_names'\u001b[0m\u001b[1;33m]\u001b[0m \u001b[1;33m=\u001b[0m \u001b[0mkwds\u001b[0m\u001b[1;33m[\u001b[0m\u001b[1;34m'has_index_names'\u001b[0m\u001b[1;33m]\u001b[0m\u001b[1;33m\u001b[0m\u001b[1;33m\u001b[0m\u001b[0m\n\u001b[0;32m    786\u001b[0m \u001b[1;33m\u001b[0m\u001b[0m\n\u001b[1;32m--> 787\u001b[1;33m         \u001b[0mself\u001b[0m\u001b[1;33m.\u001b[0m\u001b[0m_make_engine\u001b[0m\u001b[1;33m(\u001b[0m\u001b[0mself\u001b[0m\u001b[1;33m.\u001b[0m\u001b[0mengine\u001b[0m\u001b[1;33m)\u001b[0m\u001b[1;33m\u001b[0m\u001b[1;33m\u001b[0m\u001b[0m\n\u001b[0m\u001b[0;32m    788\u001b[0m \u001b[1;33m\u001b[0m\u001b[0m\n\u001b[0;32m    789\u001b[0m     \u001b[1;32mdef\u001b[0m \u001b[0mclose\u001b[0m\u001b[1;33m(\u001b[0m\u001b[0mself\u001b[0m\u001b[1;33m)\u001b[0m\u001b[1;33m:\u001b[0m\u001b[1;33m\u001b[0m\u001b[1;33m\u001b[0m\u001b[0m\n",
      "\u001b[1;32mC:\\ProgramData\\Anaconda3\\lib\\site-packages\\pandas\\io\\parsers.py\u001b[0m in \u001b[0;36m_make_engine\u001b[1;34m(self, engine)\u001b[0m\n\u001b[0;32m   1012\u001b[0m     \u001b[1;32mdef\u001b[0m \u001b[0m_make_engine\u001b[0m\u001b[1;33m(\u001b[0m\u001b[0mself\u001b[0m\u001b[1;33m,\u001b[0m \u001b[0mengine\u001b[0m\u001b[1;33m=\u001b[0m\u001b[1;34m'c'\u001b[0m\u001b[1;33m)\u001b[0m\u001b[1;33m:\u001b[0m\u001b[1;33m\u001b[0m\u001b[1;33m\u001b[0m\u001b[0m\n\u001b[0;32m   1013\u001b[0m         \u001b[1;32mif\u001b[0m \u001b[0mengine\u001b[0m \u001b[1;33m==\u001b[0m \u001b[1;34m'c'\u001b[0m\u001b[1;33m:\u001b[0m\u001b[1;33m\u001b[0m\u001b[1;33m\u001b[0m\u001b[0m\n\u001b[1;32m-> 1014\u001b[1;33m             \u001b[0mself\u001b[0m\u001b[1;33m.\u001b[0m\u001b[0m_engine\u001b[0m \u001b[1;33m=\u001b[0m \u001b[0mCParserWrapper\u001b[0m\u001b[1;33m(\u001b[0m\u001b[0mself\u001b[0m\u001b[1;33m.\u001b[0m\u001b[0mf\u001b[0m\u001b[1;33m,\u001b[0m \u001b[1;33m**\u001b[0m\u001b[0mself\u001b[0m\u001b[1;33m.\u001b[0m\u001b[0moptions\u001b[0m\u001b[1;33m)\u001b[0m\u001b[1;33m\u001b[0m\u001b[1;33m\u001b[0m\u001b[0m\n\u001b[0m\u001b[0;32m   1015\u001b[0m         \u001b[1;32melse\u001b[0m\u001b[1;33m:\u001b[0m\u001b[1;33m\u001b[0m\u001b[1;33m\u001b[0m\u001b[0m\n\u001b[0;32m   1016\u001b[0m             \u001b[1;32mif\u001b[0m \u001b[0mengine\u001b[0m \u001b[1;33m==\u001b[0m \u001b[1;34m'python'\u001b[0m\u001b[1;33m:\u001b[0m\u001b[1;33m\u001b[0m\u001b[1;33m\u001b[0m\u001b[0m\n",
      "\u001b[1;32mC:\\ProgramData\\Anaconda3\\lib\\site-packages\\pandas\\io\\parsers.py\u001b[0m in \u001b[0;36m__init__\u001b[1;34m(self, src, **kwds)\u001b[0m\n\u001b[0;32m   1706\u001b[0m         \u001b[0mkwds\u001b[0m\u001b[1;33m[\u001b[0m\u001b[1;34m'usecols'\u001b[0m\u001b[1;33m]\u001b[0m \u001b[1;33m=\u001b[0m \u001b[0mself\u001b[0m\u001b[1;33m.\u001b[0m\u001b[0musecols\u001b[0m\u001b[1;33m\u001b[0m\u001b[1;33m\u001b[0m\u001b[0m\n\u001b[0;32m   1707\u001b[0m \u001b[1;33m\u001b[0m\u001b[0m\n\u001b[1;32m-> 1708\u001b[1;33m         \u001b[0mself\u001b[0m\u001b[1;33m.\u001b[0m\u001b[0m_reader\u001b[0m \u001b[1;33m=\u001b[0m \u001b[0mparsers\u001b[0m\u001b[1;33m.\u001b[0m\u001b[0mTextReader\u001b[0m\u001b[1;33m(\u001b[0m\u001b[0msrc\u001b[0m\u001b[1;33m,\u001b[0m \u001b[1;33m**\u001b[0m\u001b[0mkwds\u001b[0m\u001b[1;33m)\u001b[0m\u001b[1;33m\u001b[0m\u001b[1;33m\u001b[0m\u001b[0m\n\u001b[0m\u001b[0;32m   1709\u001b[0m \u001b[1;33m\u001b[0m\u001b[0m\n\u001b[0;32m   1710\u001b[0m         \u001b[0mpassed_names\u001b[0m \u001b[1;33m=\u001b[0m \u001b[0mself\u001b[0m\u001b[1;33m.\u001b[0m\u001b[0mnames\u001b[0m \u001b[1;32mis\u001b[0m \u001b[1;32mNone\u001b[0m\u001b[1;33m\u001b[0m\u001b[1;33m\u001b[0m\u001b[0m\n",
      "\u001b[1;32mpandas\\_libs\\parsers.pyx\u001b[0m in \u001b[0;36mpandas._libs.parsers.TextReader.__cinit__\u001b[1;34m()\u001b[0m\n",
      "\u001b[1;32mpandas\\_libs\\parsers.pyx\u001b[0m in \u001b[0;36mpandas._libs.parsers.TextReader._setup_parser_source\u001b[1;34m()\u001b[0m\n",
      "\u001b[1;31mFileNotFoundError\u001b[0m: File b'../input/sample_submission.csv' does not exist"
     ]
    }
   ],
   "source": [
    "sub_df = pd.read_csv(r\"C:\\Users\\hp\\Documents\\Projects\\House Price Prediction\\Input Data/sample_submission.csv\")\n",
    "sub_df.SalePrice = yhat\n",
    "sub_df.to_csv(\"C:\\Users\\hp\\Documents\\Projects\\House Price Prediction\\Output\\submission.csv\", index=False)"
   ]
  },
  {
   "cell_type": "code",
   "execution_count": null,
   "metadata": {
    "_uuid": "4a7c8ae3244f6f7f97af6ffbff2ce3994bbad7d8"
   },
   "outputs": [],
   "source": []
  },
  {
   "cell_type": "code",
   "execution_count": null,
   "metadata": {
    "_uuid": "8de05dd8697c994ca35ff665586208bfcf4f960a"
   },
   "outputs": [],
   "source": []
  }
 ],
 "metadata": {
  "kernelspec": {
   "display_name": "Python 3",
   "language": "python",
   "name": "python3"
  },
  "language_info": {
   "codemirror_mode": {
    "name": "ipython",
    "version": 3
   },
   "file_extension": ".py",
   "mimetype": "text/x-python",
   "name": "python",
   "nbconvert_exporter": "python",
   "pygments_lexer": "ipython3",
   "version": "3.7.1"
  }
 },
 "nbformat": 4,
 "nbformat_minor": 1
}
